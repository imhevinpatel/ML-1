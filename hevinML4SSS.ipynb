{
  "nbformat": 4,
  "nbformat_minor": 0,
  "metadata": {
    "colab": {
      "provenance": []
    },
    "kernelspec": {
      "name": "python3",
      "display_name": "Python 3"
    },
    "language_info": {
      "name": "python"
    }
  },
  "cells": [
    {
      "cell_type": "code",
      "execution_count": 1,
      "metadata": {
        "colab": {
          "base_uri": "https://localhost:8080/"
        },
        "id": "jno9KVTc2-1r",
        "outputId": "7f9c2d88-5fa4-4d45-a6c9-437e51cd7466"
      },
      "outputs": [
        {
          "output_type": "stream",
          "name": "stderr",
          "text": [
            "/usr/local/lib/python3.9/dist-packages/sklearn/datasets/_openml.py:968: FutureWarning: The default value of `parser` will change from `'liac-arff'` to `'auto'` in 1.4. You can set `parser='auto'` to silence this warning. Therefore, an `ImportError` will be raised from 1.4 if the dataset is dense and pandas is not installed. Note that the pandas parser may return different data types. See the Notes Section in fetch_openml's API doc for details.\n",
            "  warn(\n"
          ]
        }
      ],
      "source": [
        "import numpy as np\n",
        "import regex as re\n",
        "import pandas as pd\n",
        "from sklearn.model_selection import train_test_split\n",
        "from sklearn.datasets import fetch_openml\n",
        "np.random.seed(4)\n",
        "X, y = fetch_openml(\"titanic\", version=1, as_frame=True, return_X_y=True)\n",
        "X.drop(['boat', 'body', 'home.dest'], axis=1, inplace=True)\n",
        "X_train, X_test, y_train, y_test = train_test_split(X, y, stratify=y, test_size=0.2)"
      ]
    },
    {
      "cell_type": "code",
      "source": [
        "#decision tree classifier with some default hyperparameters\n",
        "class DecisionTreeClassifier:\n",
        "    def __init__(self, max_depth=None, criterion='gini', min_samples_split=2, min_samples_leaf=1):\n",
        "        self.max_depth = max_depth\n",
        "        self.criterion = criterion\n",
        "        self.min_samples_split = min_samples_split\n",
        "        self.min_samples_leaf = min_samples_leaf\n",
        "\n",
        "    #calculates the Gini impurity of a target labels\n",
        "    \n",
        "    def _gini_index (self, lab):\n",
        "        _, cou_S = np.unique(lab, return_counts=True)\n",
        "        impu = 1.0\n",
        "        for count in cou_S:\n",
        "            final = count / len(lab)\n",
        "            impu -= final ** 2\n",
        "        return impu\n",
        "    \n",
        "    #calculates the misclassification rate impurity measure class labels.\n",
        "    \n",
        "    def _misclassification_rate(self, ans):\n",
        "        _, counts = np.unique(ans, return_counts=True)\n",
        "        n0_of_samples = len(ans)\n",
        "        if n0_of_samples == 0:\n",
        "            return 0\n",
        "        maximum = np.max(counts)\n",
        "        RATE_of_MS = 1 - (maximum / n0_of_samples)\n",
        "        return RATE_of_MS\n",
        "    \n",
        "    #calculates the entropy of a set of samples with respect to their labels\n",
        "\n",
        "  \n",
        "    def _entropy(self, y):\n",
        "      _, counts = np.unique(y, return_counts=True)\n",
        "      probs = counts / len(y)\n",
        "      entropy = 0\n",
        "      for p in probs:\n",
        "          entropy -= p * np.log2(p) if p > 0 else 0\n",
        "      return entropy\n",
        "\n",
        "        \n",
        "    def _grow_tree(self, X, y, depth=0):\n",
        "        n_samples, updated_Fea = X.shape\n",
        "        updated_labels = len(np.unique(y))\n",
        "        \n",
        "        #checks if a leaf node has been reached by checking if the maximum depth has been reached, if there is only one label, or if the number of samples is less than the minimum number of samples to split\n",
        "        if (self.max_depth != None and depth >= self.max_depth) or updated_labels == 1 or n_samples < self.min_samples_split:\n",
        "            return {'predicted_class': np.argmax(np.bincount(y))}\n",
        "        \n",
        "        impurity_func = {'gini': self._gini_index, 'misclassification_rate': self._misclassification_rate, 'entropy': self._entropy}.get(self.criterion.lower())\n",
        "\n",
        "            \n",
        "        #splitting the dataset at a given node based on the best feature and threshold value.\n",
        "        fe__ind = np.arange(updated_Fea)\n",
        "        if updated_Fea > 1:\n",
        "            np.random.permutation(fe__ind)\n",
        "            fe__ind = fe__ind[:np.random.randint(1, updated_Fea)]\n",
        "        \n",
        "        #shuffles the indices of the features and selects a random subset  \n",
        "        impurity = np.inf\n",
        "        for feature in fe__ind:\n",
        "            thresholds = np.unique(X[:, feature])\n",
        "            for t in thresholds:\n",
        "                y_left = y[X[:, feature] < t]\n",
        "                y_right = y[X[:, feature] >= t]\n",
        "                if len(y_left) < self.min_samples_leaf or len(y_right) < self.min_samples_leaf: #calculates the unique thresholds and iterates over them\n",
        "                    continue\n",
        "                impu_Curr = (len(y_left)/n_samples) * impurity_func(y_left) + (len(y_right)/n_samples) * impurity_func(y_right)\n",
        "                impurity, ideal_Fea, ideal_threshold, leftside_ind, righttside_ind = (impu_Curr, feature, t, X[:, feature] < t, X[:, feature] >= t) if impu_Curr < impurity else (impurity, ideal_Fea, ideal_threshold, leftside_ind, righttside_ind)\n",
        "       \n",
        "        if impurity == np.inf: return {'predicted_class': np.bincount(y).argmax()}\n",
        "        \n",
        "        left = self._grow_tree(X[leftside_ind], y[leftside_ind], depth+1)\n",
        "        right = self._grow_tree(X[righttside_ind], y[righttside_ind], depth+1)\n",
        "        return {'feature': ideal_Fea, 'threshold': ideal_threshold, 'left': left, 'right': right}\n",
        "\n",
        "    def fit(self, X, y): # sets the X and y attributes of the class to the input training data\n",
        "        self.X = X\n",
        "        self.y = y\n",
        "        self.n_classes = len(np.nonzero(np.bincount(y))[0])\n",
        "        self.tree = self._grow_tree(X, y, depth=0)\n",
        "        \n",
        "    def predict(self, X):\n",
        "        return np.array([self._traverse_tree(x, self.tree) for x in X])\n",
        "    \n",
        "\n",
        "    # traverse the decision tree and make a prediction for a single sample x\n",
        "    def _traverse_tree(self, x, node):\n",
        "        if 'predicted_class' in node: return node['predicted_class']\n",
        "        return self._traverse_tree(x, node['left']) if x[node['feature']] < node['threshold'] else self._traverse_tree(x, node['right'])\n",
        "\n",
        "    "
      ],
      "metadata": {
        "id": "Jh9BstH48mnF"
      },
      "execution_count": 2,
      "outputs": []
    },
    {
      "cell_type": "code",
      "source": [
        "#`y_train` and `y_test` arrays from float to integer using `.astype(int)` method. \n",
        "y_train = y_train.astype(int)\n",
        "y_test= y_test.astype(int)\n",
        "mergeDATA = [X_train, X_test]"
      ],
      "metadata": {
        "id": "gFYU1Xhx3RQ5"
      },
      "execution_count": 3,
      "outputs": []
    },
    {
      "cell_type": "code",
      "source": [
        "#fulldata after conerting\n",
        "mergeDATA"
      ],
      "metadata": {
        "id": "-B6PAe2p7qq-",
        "colab": {
          "base_uri": "https://localhost:8080/"
        },
        "outputId": "7bcdba96-392a-4782-9a58-9a1218548b2d"
      },
      "execution_count": 4,
      "outputs": [
        {
          "output_type": "execute_result",
          "data": {
            "text/plain": [
              "[      pclass                                       name     sex   age  sibsp  \\\n",
              " 39       1.0                         Brandeis, Mr. Emil    male  48.0    0.0   \n",
              " 119      1.0              Frauenthal, Dr. Henry William    male  50.0    2.0   \n",
              " 284      1.0  Stone, Mrs. George Nelson (Martha Evelyn)  female  62.0    0.0   \n",
              " 1298     3.0                  Wittevrongel, Mr. Camille    male  36.0    0.0   \n",
              " 241      1.0                      Rood, Mr. Hugh Roscoe    male   NaN    0.0   \n",
              " ...      ...                                        ...     ...   ...    ...   \n",
              " 613      3.0                Albimona, Mr. Nassef Cassem    male  26.0    0.0   \n",
              " 755      3.0                         Davies, Mr. Joseph    male  17.0    2.0   \n",
              " 1199     3.0                Shorney, Mr. Charles Joseph    male   NaN    0.0   \n",
              " 955      3.0                         Lefebre, Miss. Ida  female   NaN    3.0   \n",
              " 53       1.0                     Carrau, Mr. Jose Pedro    male  17.0    0.0   \n",
              " \n",
              "       parch     ticket      fare cabin embarked  \n",
              " 39      0.0   PC 17591   50.4958   B10        C  \n",
              " 119     0.0   PC 17611  133.6500  None        S  \n",
              " 284     0.0     113572   80.0000   B28      NaN  \n",
              " 1298    0.0     345771    9.5000  None        S  \n",
              " 241     0.0     113767   50.0000   A32        S  \n",
              " ...     ...        ...       ...   ...      ...  \n",
              " 613     0.0       2699   18.7875  None        C  \n",
              " 755     0.0  A/4 48873    8.0500  None        S  \n",
              " 1199    0.0     374910    8.0500  None        S  \n",
              " 955     1.0       4133   25.4667  None        S  \n",
              " 53      0.0     113059   47.1000  None        S  \n",
              " \n",
              " [1047 rows x 10 columns],\n",
              "       pclass                               name     sex   age  sibsp  parch  \\\n",
              " 650      3.0              Attalah, Miss. Malake  female  17.0    0.0    0.0   \n",
              " 176      1.0  Kenyon, Mrs. Frederick R (Marion)  female   NaN    1.0    0.0   \n",
              " 84       1.0          Cumings, Mr. John Bradley    male  39.0    1.0    0.0   \n",
              " 87       1.0        Daniel, Mr. Robert Williams    male  27.0    0.0    0.0   \n",
              " 1025     3.0                Moor, Master. Meier    male   6.0    0.0    1.0   \n",
              " ...      ...                                ...     ...   ...    ...    ...   \n",
              " 315      1.0           Willard, Miss. Constance  female  21.0    0.0    0.0   \n",
              " 1016     3.0                Mernagh, Mr. Robert    male   NaN    0.0    0.0   \n",
              " 985      3.0          Madsen, Mr. Fridtjof Arne    male  24.0    0.0    0.0   \n",
              " 1033     3.0             Moss, Mr. Albert Johan    male   NaN    0.0    0.0   \n",
              " 834      3.0   Gronnestad, Mr. Daniel Danielsen    male  32.0    0.0    0.0   \n",
              " \n",
              "         ticket     fare cabin embarked  \n",
              " 650       2627  14.4583  None        C  \n",
              " 176      17464  51.8625   D21        S  \n",
              " 84    PC 17599  71.2833   C85        C  \n",
              " 87      113804  30.5000  None        S  \n",
              " 1025    392096  12.4750  E121        S  \n",
              " ...        ...      ...   ...      ...  \n",
              " 315     113795  26.5500  None        S  \n",
              " 1016    368703   7.7500  None        Q  \n",
              " 985    C 17369   7.1417  None        S  \n",
              " 1033    312991   7.7750  None        S  \n",
              " 834       8471   8.3625  None        S  \n",
              " \n",
              " [262 rows x 10 columns]]"
            ]
          },
          "metadata": {},
          "execution_count": 4
        }
      ]
    },
    {
      "cell_type": "code",
      "source": [
        "#creating a new column called newcolumn_cabin in both X_train and X_test dataframes. The new column will contain 1 if the ‘cabin’ column contains a value other than NaN, otherwise it will contain 0.\n",
        "X_train['newColumn_cabin'] = X_train[\"cabin\"].apply(lambda x: 0 if type(x) == float else 1)\n",
        "#lambda function checks if the value in the ‘cabin’ column is of type float or not. If it is, then it returns 1, otherwise it returns 0\n",
        "X_test['newColumn_cabin'] = X_test[\"cabin\"].apply(lambda x: 0 if type(x) == float else 1)"
      ],
      "metadata": {
        "id": "nmLeOu277snn"
      },
      "execution_count": 5,
      "outputs": []
    },
    {
      "cell_type": "code",
      "source": [
        "mergeDATA"
      ],
      "metadata": {
        "colab": {
          "base_uri": "https://localhost:8080/"
        },
        "id": "Oci64CdwRDkV",
        "outputId": "ae4fe44d-3d6d-4709-ca10-8d8353dd793b"
      },
      "execution_count": 6,
      "outputs": [
        {
          "output_type": "execute_result",
          "data": {
            "text/plain": [
              "[      pclass                                       name     sex   age  sibsp  \\\n",
              " 39       1.0                         Brandeis, Mr. Emil    male  48.0    0.0   \n",
              " 119      1.0              Frauenthal, Dr. Henry William    male  50.0    2.0   \n",
              " 284      1.0  Stone, Mrs. George Nelson (Martha Evelyn)  female  62.0    0.0   \n",
              " 1298     3.0                  Wittevrongel, Mr. Camille    male  36.0    0.0   \n",
              " 241      1.0                      Rood, Mr. Hugh Roscoe    male   NaN    0.0   \n",
              " ...      ...                                        ...     ...   ...    ...   \n",
              " 613      3.0                Albimona, Mr. Nassef Cassem    male  26.0    0.0   \n",
              " 755      3.0                         Davies, Mr. Joseph    male  17.0    2.0   \n",
              " 1199     3.0                Shorney, Mr. Charles Joseph    male   NaN    0.0   \n",
              " 955      3.0                         Lefebre, Miss. Ida  female   NaN    3.0   \n",
              " 53       1.0                     Carrau, Mr. Jose Pedro    male  17.0    0.0   \n",
              " \n",
              "       parch     ticket      fare cabin embarked  newColumn_cabin  \n",
              " 39      0.0   PC 17591   50.4958   B10        C                1  \n",
              " 119     0.0   PC 17611  133.6500  None        S                1  \n",
              " 284     0.0     113572   80.0000   B28      NaN                1  \n",
              " 1298    0.0     345771    9.5000  None        S                1  \n",
              " 241     0.0     113767   50.0000   A32        S                1  \n",
              " ...     ...        ...       ...   ...      ...              ...  \n",
              " 613     0.0       2699   18.7875  None        C                1  \n",
              " 755     0.0  A/4 48873    8.0500  None        S                1  \n",
              " 1199    0.0     374910    8.0500  None        S                1  \n",
              " 955     1.0       4133   25.4667  None        S                1  \n",
              " 53      0.0     113059   47.1000  None        S                1  \n",
              " \n",
              " [1047 rows x 11 columns],\n",
              "       pclass                               name     sex   age  sibsp  parch  \\\n",
              " 650      3.0              Attalah, Miss. Malake  female  17.0    0.0    0.0   \n",
              " 176      1.0  Kenyon, Mrs. Frederick R (Marion)  female   NaN    1.0    0.0   \n",
              " 84       1.0          Cumings, Mr. John Bradley    male  39.0    1.0    0.0   \n",
              " 87       1.0        Daniel, Mr. Robert Williams    male  27.0    0.0    0.0   \n",
              " 1025     3.0                Moor, Master. Meier    male   6.0    0.0    1.0   \n",
              " ...      ...                                ...     ...   ...    ...    ...   \n",
              " 315      1.0           Willard, Miss. Constance  female  21.0    0.0    0.0   \n",
              " 1016     3.0                Mernagh, Mr. Robert    male   NaN    0.0    0.0   \n",
              " 985      3.0          Madsen, Mr. Fridtjof Arne    male  24.0    0.0    0.0   \n",
              " 1033     3.0             Moss, Mr. Albert Johan    male   NaN    0.0    0.0   \n",
              " 834      3.0   Gronnestad, Mr. Daniel Danielsen    male  32.0    0.0    0.0   \n",
              " \n",
              "         ticket     fare cabin embarked  newColumn_cabin  \n",
              " 650       2627  14.4583  None        C                1  \n",
              " 176      17464  51.8625   D21        S                1  \n",
              " 84    PC 17599  71.2833   C85        C                1  \n",
              " 87      113804  30.5000  None        S                1  \n",
              " 1025    392096  12.4750  E121        S                1  \n",
              " ...        ...      ...   ...      ...              ...  \n",
              " 315     113795  26.5500  None        S                1  \n",
              " 1016    368703   7.7500  None        Q                1  \n",
              " 985    C 17369   7.1417  None        S                1  \n",
              " 1033    312991   7.7750  None        S                1  \n",
              " 834       8471   8.3625  None        S                1  \n",
              " \n",
              " [262 rows x 11 columns]]"
            ]
          },
          "metadata": {},
          "execution_count": 6
        }
      ]
    },
    {
      "cell_type": "code",
      "source": [
        "#creating a new column called all_in_one_family.The new column will contain the sum of ‘sibsp’ and ‘parch’ columns plus 1 \n",
        "for dataset in mergeDATA:\n",
        "    dataset['all_in_one_family'] = dataset['sibsp'] + dataset['parch'] + 1\n",
        "\n",
        "mergeDATA"
      ],
      "metadata": {
        "id": "ZvzJFpWS7uyn",
        "colab": {
          "base_uri": "https://localhost:8080/"
        },
        "outputId": "5c027d96-daaf-4737-dcda-0055605f3750"
      },
      "execution_count": 7,
      "outputs": [
        {
          "output_type": "execute_result",
          "data": {
            "text/plain": [
              "[      pclass                                       name     sex   age  sibsp  \\\n",
              " 39       1.0                         Brandeis, Mr. Emil    male  48.0    0.0   \n",
              " 119      1.0              Frauenthal, Dr. Henry William    male  50.0    2.0   \n",
              " 284      1.0  Stone, Mrs. George Nelson (Martha Evelyn)  female  62.0    0.0   \n",
              " 1298     3.0                  Wittevrongel, Mr. Camille    male  36.0    0.0   \n",
              " 241      1.0                      Rood, Mr. Hugh Roscoe    male   NaN    0.0   \n",
              " ...      ...                                        ...     ...   ...    ...   \n",
              " 613      3.0                Albimona, Mr. Nassef Cassem    male  26.0    0.0   \n",
              " 755      3.0                         Davies, Mr. Joseph    male  17.0    2.0   \n",
              " 1199     3.0                Shorney, Mr. Charles Joseph    male   NaN    0.0   \n",
              " 955      3.0                         Lefebre, Miss. Ida  female   NaN    3.0   \n",
              " 53       1.0                     Carrau, Mr. Jose Pedro    male  17.0    0.0   \n",
              " \n",
              "       parch     ticket      fare cabin embarked  newColumn_cabin  \\\n",
              " 39      0.0   PC 17591   50.4958   B10        C                1   \n",
              " 119     0.0   PC 17611  133.6500  None        S                1   \n",
              " 284     0.0     113572   80.0000   B28      NaN                1   \n",
              " 1298    0.0     345771    9.5000  None        S                1   \n",
              " 241     0.0     113767   50.0000   A32        S                1   \n",
              " ...     ...        ...       ...   ...      ...              ...   \n",
              " 613     0.0       2699   18.7875  None        C                1   \n",
              " 755     0.0  A/4 48873    8.0500  None        S                1   \n",
              " 1199    0.0     374910    8.0500  None        S                1   \n",
              " 955     1.0       4133   25.4667  None        S                1   \n",
              " 53      0.0     113059   47.1000  None        S                1   \n",
              " \n",
              "       all_in_one_family  \n",
              " 39                  1.0  \n",
              " 119                 3.0  \n",
              " 284                 1.0  \n",
              " 1298                1.0  \n",
              " 241                 1.0  \n",
              " ...                 ...  \n",
              " 613                 1.0  \n",
              " 755                 3.0  \n",
              " 1199                1.0  \n",
              " 955                 5.0  \n",
              " 53                  1.0  \n",
              " \n",
              " [1047 rows x 12 columns],\n",
              "       pclass                               name     sex   age  sibsp  parch  \\\n",
              " 650      3.0              Attalah, Miss. Malake  female  17.0    0.0    0.0   \n",
              " 176      1.0  Kenyon, Mrs. Frederick R (Marion)  female   NaN    1.0    0.0   \n",
              " 84       1.0          Cumings, Mr. John Bradley    male  39.0    1.0    0.0   \n",
              " 87       1.0        Daniel, Mr. Robert Williams    male  27.0    0.0    0.0   \n",
              " 1025     3.0                Moor, Master. Meier    male   6.0    0.0    1.0   \n",
              " ...      ...                                ...     ...   ...    ...    ...   \n",
              " 315      1.0           Willard, Miss. Constance  female  21.0    0.0    0.0   \n",
              " 1016     3.0                Mernagh, Mr. Robert    male   NaN    0.0    0.0   \n",
              " 985      3.0          Madsen, Mr. Fridtjof Arne    male  24.0    0.0    0.0   \n",
              " 1033     3.0             Moss, Mr. Albert Johan    male   NaN    0.0    0.0   \n",
              " 834      3.0   Gronnestad, Mr. Daniel Danielsen    male  32.0    0.0    0.0   \n",
              " \n",
              "         ticket     fare cabin embarked  newColumn_cabin  all_in_one_family  \n",
              " 650       2627  14.4583  None        C                1                1.0  \n",
              " 176      17464  51.8625   D21        S                1                2.0  \n",
              " 84    PC 17599  71.2833   C85        C                1                2.0  \n",
              " 87      113804  30.5000  None        S                1                1.0  \n",
              " 1025    392096  12.4750  E121        S                1                2.0  \n",
              " ...        ...      ...   ...      ...              ...                ...  \n",
              " 315     113795  26.5500  None        S                1                1.0  \n",
              " 1016    368703   7.7500  None        Q                1                1.0  \n",
              " 985    C 17369   7.1417  None        S                1                1.0  \n",
              " 1033    312991   7.7750  None        S                1                1.0  \n",
              " 834       8471   8.3625  None        S                1                1.0  \n",
              " \n",
              " [262 rows x 12 columns]]"
            ]
          },
          "metadata": {},
          "execution_count": 7
        }
      ]
    },
    {
      "cell_type": "code",
      "source": [
        "#filling missing values in the ‘fare’ column with the median value of ‘fare’ column.\n",
        "\n",
        "for dataset in mergeDATA:\n",
        "    dataset['fare'] = dataset['fare'].fillna(X_train['fare'].median())\n"
      ],
      "metadata": {
        "id": "dmoSVgQ-cxd-"
      },
      "execution_count": 8,
      "outputs": []
    },
    {
      "cell_type": "code",
      "source": [
        "mergeDATA"
      ],
      "metadata": {
        "colab": {
          "base_uri": "https://localhost:8080/"
        },
        "id": "OO_olD1Yc0fs",
        "outputId": "bba5cbd7-24b5-4d1c-e90b-4608856c05c4"
      },
      "execution_count": 9,
      "outputs": [
        {
          "output_type": "execute_result",
          "data": {
            "text/plain": [
              "[      pclass                                       name     sex   age  sibsp  \\\n",
              " 39       1.0                         Brandeis, Mr. Emil    male  48.0    0.0   \n",
              " 119      1.0              Frauenthal, Dr. Henry William    male  50.0    2.0   \n",
              " 284      1.0  Stone, Mrs. George Nelson (Martha Evelyn)  female  62.0    0.0   \n",
              " 1298     3.0                  Wittevrongel, Mr. Camille    male  36.0    0.0   \n",
              " 241      1.0                      Rood, Mr. Hugh Roscoe    male   NaN    0.0   \n",
              " ...      ...                                        ...     ...   ...    ...   \n",
              " 613      3.0                Albimona, Mr. Nassef Cassem    male  26.0    0.0   \n",
              " 755      3.0                         Davies, Mr. Joseph    male  17.0    2.0   \n",
              " 1199     3.0                Shorney, Mr. Charles Joseph    male   NaN    0.0   \n",
              " 955      3.0                         Lefebre, Miss. Ida  female   NaN    3.0   \n",
              " 53       1.0                     Carrau, Mr. Jose Pedro    male  17.0    0.0   \n",
              " \n",
              "       parch     ticket      fare cabin embarked  newColumn_cabin  \\\n",
              " 39      0.0   PC 17591   50.4958   B10        C                1   \n",
              " 119     0.0   PC 17611  133.6500  None        S                1   \n",
              " 284     0.0     113572   80.0000   B28      NaN                1   \n",
              " 1298    0.0     345771    9.5000  None        S                1   \n",
              " 241     0.0     113767   50.0000   A32        S                1   \n",
              " ...     ...        ...       ...   ...      ...              ...   \n",
              " 613     0.0       2699   18.7875  None        C                1   \n",
              " 755     0.0  A/4 48873    8.0500  None        S                1   \n",
              " 1199    0.0     374910    8.0500  None        S                1   \n",
              " 955     1.0       4133   25.4667  None        S                1   \n",
              " 53      0.0     113059   47.1000  None        S                1   \n",
              " \n",
              "       all_in_one_family  \n",
              " 39                  1.0  \n",
              " 119                 3.0  \n",
              " 284                 1.0  \n",
              " 1298                1.0  \n",
              " 241                 1.0  \n",
              " ...                 ...  \n",
              " 613                 1.0  \n",
              " 755                 3.0  \n",
              " 1199                1.0  \n",
              " 955                 5.0  \n",
              " 53                  1.0  \n",
              " \n",
              " [1047 rows x 12 columns],\n",
              "       pclass                               name     sex   age  sibsp  parch  \\\n",
              " 650      3.0              Attalah, Miss. Malake  female  17.0    0.0    0.0   \n",
              " 176      1.0  Kenyon, Mrs. Frederick R (Marion)  female   NaN    1.0    0.0   \n",
              " 84       1.0          Cumings, Mr. John Bradley    male  39.0    1.0    0.0   \n",
              " 87       1.0        Daniel, Mr. Robert Williams    male  27.0    0.0    0.0   \n",
              " 1025     3.0                Moor, Master. Meier    male   6.0    0.0    1.0   \n",
              " ...      ...                                ...     ...   ...    ...    ...   \n",
              " 315      1.0           Willard, Miss. Constance  female  21.0    0.0    0.0   \n",
              " 1016     3.0                Mernagh, Mr. Robert    male   NaN    0.0    0.0   \n",
              " 985      3.0          Madsen, Mr. Fridtjof Arne    male  24.0    0.0    0.0   \n",
              " 1033     3.0             Moss, Mr. Albert Johan    male   NaN    0.0    0.0   \n",
              " 834      3.0   Gronnestad, Mr. Daniel Danielsen    male  32.0    0.0    0.0   \n",
              " \n",
              "         ticket     fare cabin embarked  newColumn_cabin  all_in_one_family  \n",
              " 650       2627  14.4583  None        C                1                1.0  \n",
              " 176      17464  51.8625   D21        S                1                2.0  \n",
              " 84    PC 17599  71.2833   C85        C                1                2.0  \n",
              " 87      113804  30.5000  None        S                1                1.0  \n",
              " 1025    392096  12.4750  E121        S                1                2.0  \n",
              " ...        ...      ...   ...      ...              ...                ...  \n",
              " 315     113795  26.5500  None        S                1                1.0  \n",
              " 1016    368703   7.7500  None        Q                1                1.0  \n",
              " 985    C 17369   7.1417  None        S                1                1.0  \n",
              " 1033    312991   7.7750  None        S                1                1.0  \n",
              " 834       8471   8.3625  None        S                1                1.0  \n",
              " \n",
              " [262 rows x 12 columns]]"
            ]
          },
          "metadata": {},
          "execution_count": 9
        }
      ]
    },
    {
      "cell_type": "code",
      "source": [
        "#filling missing values in the ‘embarked’ column with ‘S’\n",
        "\n",
        "for dataset in mergeDATA:\n",
        "    dataset['embarked'] = dataset['embarked'].fillna('S')"
      ],
      "metadata": {
        "id": "FoKn_1shc-qt"
      },
      "execution_count": 10,
      "outputs": []
    },
    {
      "cell_type": "code",
      "source": [
        "mergeDATA"
      ],
      "metadata": {
        "colab": {
          "base_uri": "https://localhost:8080/"
        },
        "id": "qMmmtG-OdCfh",
        "outputId": "4c8d8244-2687-41b3-fbcb-8680d75420d6"
      },
      "execution_count": 11,
      "outputs": [
        {
          "output_type": "execute_result",
          "data": {
            "text/plain": [
              "[      pclass                                       name     sex   age  sibsp  \\\n",
              " 39       1.0                         Brandeis, Mr. Emil    male  48.0    0.0   \n",
              " 119      1.0              Frauenthal, Dr. Henry William    male  50.0    2.0   \n",
              " 284      1.0  Stone, Mrs. George Nelson (Martha Evelyn)  female  62.0    0.0   \n",
              " 1298     3.0                  Wittevrongel, Mr. Camille    male  36.0    0.0   \n",
              " 241      1.0                      Rood, Mr. Hugh Roscoe    male   NaN    0.0   \n",
              " ...      ...                                        ...     ...   ...    ...   \n",
              " 613      3.0                Albimona, Mr. Nassef Cassem    male  26.0    0.0   \n",
              " 755      3.0                         Davies, Mr. Joseph    male  17.0    2.0   \n",
              " 1199     3.0                Shorney, Mr. Charles Joseph    male   NaN    0.0   \n",
              " 955      3.0                         Lefebre, Miss. Ida  female   NaN    3.0   \n",
              " 53       1.0                     Carrau, Mr. Jose Pedro    male  17.0    0.0   \n",
              " \n",
              "       parch     ticket      fare cabin embarked  newColumn_cabin  \\\n",
              " 39      0.0   PC 17591   50.4958   B10        C                1   \n",
              " 119     0.0   PC 17611  133.6500  None        S                1   \n",
              " 284     0.0     113572   80.0000   B28        S                1   \n",
              " 1298    0.0     345771    9.5000  None        S                1   \n",
              " 241     0.0     113767   50.0000   A32        S                1   \n",
              " ...     ...        ...       ...   ...      ...              ...   \n",
              " 613     0.0       2699   18.7875  None        C                1   \n",
              " 755     0.0  A/4 48873    8.0500  None        S                1   \n",
              " 1199    0.0     374910    8.0500  None        S                1   \n",
              " 955     1.0       4133   25.4667  None        S                1   \n",
              " 53      0.0     113059   47.1000  None        S                1   \n",
              " \n",
              "       all_in_one_family  \n",
              " 39                  1.0  \n",
              " 119                 3.0  \n",
              " 284                 1.0  \n",
              " 1298                1.0  \n",
              " 241                 1.0  \n",
              " ...                 ...  \n",
              " 613                 1.0  \n",
              " 755                 3.0  \n",
              " 1199                1.0  \n",
              " 955                 5.0  \n",
              " 53                  1.0  \n",
              " \n",
              " [1047 rows x 12 columns],\n",
              "       pclass                               name     sex   age  sibsp  parch  \\\n",
              " 650      3.0              Attalah, Miss. Malake  female  17.0    0.0    0.0   \n",
              " 176      1.0  Kenyon, Mrs. Frederick R (Marion)  female   NaN    1.0    0.0   \n",
              " 84       1.0          Cumings, Mr. John Bradley    male  39.0    1.0    0.0   \n",
              " 87       1.0        Daniel, Mr. Robert Williams    male  27.0    0.0    0.0   \n",
              " 1025     3.0                Moor, Master. Meier    male   6.0    0.0    1.0   \n",
              " ...      ...                                ...     ...   ...    ...    ...   \n",
              " 315      1.0           Willard, Miss. Constance  female  21.0    0.0    0.0   \n",
              " 1016     3.0                Mernagh, Mr. Robert    male   NaN    0.0    0.0   \n",
              " 985      3.0          Madsen, Mr. Fridtjof Arne    male  24.0    0.0    0.0   \n",
              " 1033     3.0             Moss, Mr. Albert Johan    male   NaN    0.0    0.0   \n",
              " 834      3.0   Gronnestad, Mr. Daniel Danielsen    male  32.0    0.0    0.0   \n",
              " \n",
              "         ticket     fare cabin embarked  newColumn_cabin  all_in_one_family  \n",
              " 650       2627  14.4583  None        C                1                1.0  \n",
              " 176      17464  51.8625   D21        S                1                2.0  \n",
              " 84    PC 17599  71.2833   C85        C                1                2.0  \n",
              " 87      113804  30.5000  None        S                1                1.0  \n",
              " 1025    392096  12.4750  E121        S                1                2.0  \n",
              " ...        ...      ...   ...      ...              ...                ...  \n",
              " 315     113795  26.5500  None        S                1                1.0  \n",
              " 1016    368703   7.7500  None        Q                1                1.0  \n",
              " 985    C 17369   7.1417  None        S                1                1.0  \n",
              " 1033    312991   7.7750  None        S                1                1.0  \n",
              " 834       8471   8.3625  None        S                1                1.0  \n",
              " \n",
              " [262 rows x 12 columns]]"
            ]
          },
          "metadata": {},
          "execution_count": 11
        }
      ]
    },
    {
      "cell_type": "code",
      "source": [
        "#filling missing values in the AGE column.\n",
        "for dataset in mergeDATA:\n",
        "    #taking average of age column\n",
        "    average_AGE = dataset['age'].mean()\n",
        "    #taking std of age column\n",
        "    standardD_AGE = dataset['age'].std()\n",
        "    Countnull_AGE = dataset['age'].isnull().sum()\n",
        "    #generates a list of random integers using NumPy's random.randint() function. \n",
        "    NULLlist_AGE = np.random.randint(average_AGE - standardD_AGE, average_AGE + standardD_AGE, size=Countnull_AGE)\n",
        "    # Next line has been improved to avoid warning\n",
        "    #loc[] function : select rows with null values in the age column and the astype() function : convert the age column to integers.\n",
        "    dataset.loc[np.isnan(dataset['age']), 'age'] = NULLlist_AGE\n",
        "    dataset['age'] = dataset['age'].astype(int)"
      ],
      "metadata": {
        "id": "KyUWO4KRod-O"
      },
      "execution_count": 12,
      "outputs": []
    },
    {
      "cell_type": "code",
      "source": [
        "mergeDATA"
      ],
      "metadata": {
        "colab": {
          "base_uri": "https://localhost:8080/"
        },
        "id": "X4jTwPnDo68A",
        "outputId": "f6153baf-56fd-4337-dfb2-a552da321e32"
      },
      "execution_count": 13,
      "outputs": [
        {
          "output_type": "execute_result",
          "data": {
            "text/plain": [
              "[      pclass                                       name     sex  age  sibsp  \\\n",
              " 39       1.0                         Brandeis, Mr. Emil    male   48    0.0   \n",
              " 119      1.0              Frauenthal, Dr. Henry William    male   50    2.0   \n",
              " 284      1.0  Stone, Mrs. George Nelson (Martha Evelyn)  female   62    0.0   \n",
              " 1298     3.0                  Wittevrongel, Mr. Camille    male   36    0.0   \n",
              " 241      1.0                      Rood, Mr. Hugh Roscoe    male   17    0.0   \n",
              " ...      ...                                        ...     ...  ...    ...   \n",
              " 613      3.0                Albimona, Mr. Nassef Cassem    male   26    0.0   \n",
              " 755      3.0                         Davies, Mr. Joseph    male   17    2.0   \n",
              " 1199     3.0                Shorney, Mr. Charles Joseph    male   28    0.0   \n",
              " 955      3.0                         Lefebre, Miss. Ida  female   33    3.0   \n",
              " 53       1.0                     Carrau, Mr. Jose Pedro    male   17    0.0   \n",
              " \n",
              "       parch     ticket      fare cabin embarked  newColumn_cabin  \\\n",
              " 39      0.0   PC 17591   50.4958   B10        C                1   \n",
              " 119     0.0   PC 17611  133.6500  None        S                1   \n",
              " 284     0.0     113572   80.0000   B28        S                1   \n",
              " 1298    0.0     345771    9.5000  None        S                1   \n",
              " 241     0.0     113767   50.0000   A32        S                1   \n",
              " ...     ...        ...       ...   ...      ...              ...   \n",
              " 613     0.0       2699   18.7875  None        C                1   \n",
              " 755     0.0  A/4 48873    8.0500  None        S                1   \n",
              " 1199    0.0     374910    8.0500  None        S                1   \n",
              " 955     1.0       4133   25.4667  None        S                1   \n",
              " 53      0.0     113059   47.1000  None        S                1   \n",
              " \n",
              "       all_in_one_family  \n",
              " 39                  1.0  \n",
              " 119                 3.0  \n",
              " 284                 1.0  \n",
              " 1298                1.0  \n",
              " 241                 1.0  \n",
              " ...                 ...  \n",
              " 613                 1.0  \n",
              " 755                 3.0  \n",
              " 1199                1.0  \n",
              " 955                 5.0  \n",
              " 53                  1.0  \n",
              " \n",
              " [1047 rows x 12 columns],\n",
              "       pclass                               name     sex  age  sibsp  parch  \\\n",
              " 650      3.0              Attalah, Miss. Malake  female   17    0.0    0.0   \n",
              " 176      1.0  Kenyon, Mrs. Frederick R (Marion)  female   28    1.0    0.0   \n",
              " 84       1.0          Cumings, Mr. John Bradley    male   39    1.0    0.0   \n",
              " 87       1.0        Daniel, Mr. Robert Williams    male   27    0.0    0.0   \n",
              " 1025     3.0                Moor, Master. Meier    male    6    0.0    1.0   \n",
              " ...      ...                                ...     ...  ...    ...    ...   \n",
              " 315      1.0           Willard, Miss. Constance  female   21    0.0    0.0   \n",
              " 1016     3.0                Mernagh, Mr. Robert    male   19    0.0    0.0   \n",
              " 985      3.0          Madsen, Mr. Fridtjof Arne    male   24    0.0    0.0   \n",
              " 1033     3.0             Moss, Mr. Albert Johan    male   32    0.0    0.0   \n",
              " 834      3.0   Gronnestad, Mr. Daniel Danielsen    male   32    0.0    0.0   \n",
              " \n",
              "         ticket     fare cabin embarked  newColumn_cabin  all_in_one_family  \n",
              " 650       2627  14.4583  None        C                1                1.0  \n",
              " 176      17464  51.8625   D21        S                1                2.0  \n",
              " 84    PC 17599  71.2833   C85        C                1                2.0  \n",
              " 87      113804  30.5000  None        S                1                1.0  \n",
              " 1025    392096  12.4750  E121        S                1                2.0  \n",
              " ...        ...      ...   ...      ...              ...                ...  \n",
              " 315     113795  26.5500  None        S                1                1.0  \n",
              " 1016    368703   7.7500  None        Q                1                1.0  \n",
              " 985    C 17369   7.1417  None        S                1                1.0  \n",
              " 1033    312991   7.7750  None        S                1                1.0  \n",
              " 834       8471   8.3625  None        S                1                1.0  \n",
              " \n",
              " [262 rows x 12 columns]]"
            ]
          },
          "metadata": {},
          "execution_count": 13
        }
      ]
    },
    {
      "cell_type": "code",
      "source": [
        "# defines  function called ‘get_title’ that extracts titles from passenger names.\n",
        "#‘re.search’ method is used to search for a pattern in a string .\n",
        "\n",
        "def get_title(name):\n",
        "    title_search = re.search(' ([A-Za-z]+)\\.', name)\n",
        "    # If the title exists, extract and return it.\n",
        "    if title_search:\n",
        "        return title_search.group(1)\n",
        "    return \"\""
      ],
      "metadata": {
        "id": "jkXUzXpOo2yn"
      },
      "execution_count": 14,
      "outputs": []
    },
    {
      "cell_type": "code",
      "source": [
        "mergeDATA"
      ],
      "metadata": {
        "colab": {
          "base_uri": "https://localhost:8080/"
        },
        "id": "gNuHB19lqnSo",
        "outputId": "81dc8376-7ae7-4acd-8c71-d0dc79528a85"
      },
      "execution_count": 15,
      "outputs": [
        {
          "output_type": "execute_result",
          "data": {
            "text/plain": [
              "[      pclass                                       name     sex  age  sibsp  \\\n",
              " 39       1.0                         Brandeis, Mr. Emil    male   48    0.0   \n",
              " 119      1.0              Frauenthal, Dr. Henry William    male   50    2.0   \n",
              " 284      1.0  Stone, Mrs. George Nelson (Martha Evelyn)  female   62    0.0   \n",
              " 1298     3.0                  Wittevrongel, Mr. Camille    male   36    0.0   \n",
              " 241      1.0                      Rood, Mr. Hugh Roscoe    male   17    0.0   \n",
              " ...      ...                                        ...     ...  ...    ...   \n",
              " 613      3.0                Albimona, Mr. Nassef Cassem    male   26    0.0   \n",
              " 755      3.0                         Davies, Mr. Joseph    male   17    2.0   \n",
              " 1199     3.0                Shorney, Mr. Charles Joseph    male   28    0.0   \n",
              " 955      3.0                         Lefebre, Miss. Ida  female   33    3.0   \n",
              " 53       1.0                     Carrau, Mr. Jose Pedro    male   17    0.0   \n",
              " \n",
              "       parch     ticket      fare cabin embarked  newColumn_cabin  \\\n",
              " 39      0.0   PC 17591   50.4958   B10        C                1   \n",
              " 119     0.0   PC 17611  133.6500  None        S                1   \n",
              " 284     0.0     113572   80.0000   B28        S                1   \n",
              " 1298    0.0     345771    9.5000  None        S                1   \n",
              " 241     0.0     113767   50.0000   A32        S                1   \n",
              " ...     ...        ...       ...   ...      ...              ...   \n",
              " 613     0.0       2699   18.7875  None        C                1   \n",
              " 755     0.0  A/4 48873    8.0500  None        S                1   \n",
              " 1199    0.0     374910    8.0500  None        S                1   \n",
              " 955     1.0       4133   25.4667  None        S                1   \n",
              " 53      0.0     113059   47.1000  None        S                1   \n",
              " \n",
              "       all_in_one_family  \n",
              " 39                  1.0  \n",
              " 119                 3.0  \n",
              " 284                 1.0  \n",
              " 1298                1.0  \n",
              " 241                 1.0  \n",
              " ...                 ...  \n",
              " 613                 1.0  \n",
              " 755                 3.0  \n",
              " 1199                1.0  \n",
              " 955                 5.0  \n",
              " 53                  1.0  \n",
              " \n",
              " [1047 rows x 12 columns],\n",
              "       pclass                               name     sex  age  sibsp  parch  \\\n",
              " 650      3.0              Attalah, Miss. Malake  female   17    0.0    0.0   \n",
              " 176      1.0  Kenyon, Mrs. Frederick R (Marion)  female   28    1.0    0.0   \n",
              " 84       1.0          Cumings, Mr. John Bradley    male   39    1.0    0.0   \n",
              " 87       1.0        Daniel, Mr. Robert Williams    male   27    0.0    0.0   \n",
              " 1025     3.0                Moor, Master. Meier    male    6    0.0    1.0   \n",
              " ...      ...                                ...     ...  ...    ...    ...   \n",
              " 315      1.0           Willard, Miss. Constance  female   21    0.0    0.0   \n",
              " 1016     3.0                Mernagh, Mr. Robert    male   19    0.0    0.0   \n",
              " 985      3.0          Madsen, Mr. Fridtjof Arne    male   24    0.0    0.0   \n",
              " 1033     3.0             Moss, Mr. Albert Johan    male   32    0.0    0.0   \n",
              " 834      3.0   Gronnestad, Mr. Daniel Danielsen    male   32    0.0    0.0   \n",
              " \n",
              "         ticket     fare cabin embarked  newColumn_cabin  all_in_one_family  \n",
              " 650       2627  14.4583  None        C                1                1.0  \n",
              " 176      17464  51.8625   D21        S                1                2.0  \n",
              " 84    PC 17599  71.2833   C85        C                1                2.0  \n",
              " 87      113804  30.5000  None        S                1                1.0  \n",
              " 1025    392096  12.4750  E121        S                1                2.0  \n",
              " ...        ...      ...   ...      ...              ...                ...  \n",
              " 315     113795  26.5500  None        S                1                1.0  \n",
              " 1016    368703   7.7500  None        Q                1                1.0  \n",
              " 985    C 17369   7.1417  None        S                1                1.0  \n",
              " 1033    312991   7.7750  None        S                1                1.0  \n",
              " 834       8471   8.3625  None        S                1                1.0  \n",
              " \n",
              " [262 rows x 12 columns]]"
            ]
          },
          "metadata": {},
          "execution_count": 15
        }
      ]
    },
    {
      "cell_type": "code",
      "source": [
        "#creating a new column called 'Title'\n",
        "for dataset in mergeDATA:\n",
        "    dataset['Title'] = dataset['name'].apply(get_title)"
      ],
      "metadata": {
        "id": "1qBhiHjFrI7H"
      },
      "execution_count": 16,
      "outputs": []
    },
    {
      "cell_type": "code",
      "source": [
        "mergeDATA"
      ],
      "metadata": {
        "colab": {
          "base_uri": "https://localhost:8080/"
        },
        "id": "RtdqcRo0rKcR",
        "outputId": "a6c19c47-1109-4aca-e2c6-b08d54c6afe2"
      },
      "execution_count": 17,
      "outputs": [
        {
          "output_type": "execute_result",
          "data": {
            "text/plain": [
              "[      pclass                                       name     sex  age  sibsp  \\\n",
              " 39       1.0                         Brandeis, Mr. Emil    male   48    0.0   \n",
              " 119      1.0              Frauenthal, Dr. Henry William    male   50    2.0   \n",
              " 284      1.0  Stone, Mrs. George Nelson (Martha Evelyn)  female   62    0.0   \n",
              " 1298     3.0                  Wittevrongel, Mr. Camille    male   36    0.0   \n",
              " 241      1.0                      Rood, Mr. Hugh Roscoe    male   17    0.0   \n",
              " ...      ...                                        ...     ...  ...    ...   \n",
              " 613      3.0                Albimona, Mr. Nassef Cassem    male   26    0.0   \n",
              " 755      3.0                         Davies, Mr. Joseph    male   17    2.0   \n",
              " 1199     3.0                Shorney, Mr. Charles Joseph    male   28    0.0   \n",
              " 955      3.0                         Lefebre, Miss. Ida  female   33    3.0   \n",
              " 53       1.0                     Carrau, Mr. Jose Pedro    male   17    0.0   \n",
              " \n",
              "       parch     ticket      fare cabin embarked  newColumn_cabin  \\\n",
              " 39      0.0   PC 17591   50.4958   B10        C                1   \n",
              " 119     0.0   PC 17611  133.6500  None        S                1   \n",
              " 284     0.0     113572   80.0000   B28        S                1   \n",
              " 1298    0.0     345771    9.5000  None        S                1   \n",
              " 241     0.0     113767   50.0000   A32        S                1   \n",
              " ...     ...        ...       ...   ...      ...              ...   \n",
              " 613     0.0       2699   18.7875  None        C                1   \n",
              " 755     0.0  A/4 48873    8.0500  None        S                1   \n",
              " 1199    0.0     374910    8.0500  None        S                1   \n",
              " 955     1.0       4133   25.4667  None        S                1   \n",
              " 53      0.0     113059   47.1000  None        S                1   \n",
              " \n",
              "       all_in_one_family Title  \n",
              " 39                  1.0    Mr  \n",
              " 119                 3.0    Dr  \n",
              " 284                 1.0   Mrs  \n",
              " 1298                1.0    Mr  \n",
              " 241                 1.0    Mr  \n",
              " ...                 ...   ...  \n",
              " 613                 1.0    Mr  \n",
              " 755                 3.0    Mr  \n",
              " 1199                1.0    Mr  \n",
              " 955                 5.0  Miss  \n",
              " 53                  1.0    Mr  \n",
              " \n",
              " [1047 rows x 13 columns],\n",
              "       pclass                               name     sex  age  sibsp  parch  \\\n",
              " 650      3.0              Attalah, Miss. Malake  female   17    0.0    0.0   \n",
              " 176      1.0  Kenyon, Mrs. Frederick R (Marion)  female   28    1.0    0.0   \n",
              " 84       1.0          Cumings, Mr. John Bradley    male   39    1.0    0.0   \n",
              " 87       1.0        Daniel, Mr. Robert Williams    male   27    0.0    0.0   \n",
              " 1025     3.0                Moor, Master. Meier    male    6    0.0    1.0   \n",
              " ...      ...                                ...     ...  ...    ...    ...   \n",
              " 315      1.0           Willard, Miss. Constance  female   21    0.0    0.0   \n",
              " 1016     3.0                Mernagh, Mr. Robert    male   19    0.0    0.0   \n",
              " 985      3.0          Madsen, Mr. Fridtjof Arne    male   24    0.0    0.0   \n",
              " 1033     3.0             Moss, Mr. Albert Johan    male   32    0.0    0.0   \n",
              " 834      3.0   Gronnestad, Mr. Daniel Danielsen    male   32    0.0    0.0   \n",
              " \n",
              "         ticket     fare cabin embarked  newColumn_cabin  all_in_one_family  \\\n",
              " 650       2627  14.4583  None        C                1                1.0   \n",
              " 176      17464  51.8625   D21        S                1                2.0   \n",
              " 84    PC 17599  71.2833   C85        C                1                2.0   \n",
              " 87      113804  30.5000  None        S                1                1.0   \n",
              " 1025    392096  12.4750  E121        S                1                2.0   \n",
              " ...        ...      ...   ...      ...              ...                ...   \n",
              " 315     113795  26.5500  None        S                1                1.0   \n",
              " 1016    368703   7.7500  None        Q                1                1.0   \n",
              " 985    C 17369   7.1417  None        S                1                1.0   \n",
              " 1033    312991   7.7750  None        S                1                1.0   \n",
              " 834       8471   8.3625  None        S                1                1.0   \n",
              " \n",
              "        Title  \n",
              " 650     Miss  \n",
              " 176      Mrs  \n",
              " 84        Mr  \n",
              " 87        Mr  \n",
              " 1025  Master  \n",
              " ...      ...  \n",
              " 315     Miss  \n",
              " 1016      Mr  \n",
              " 985       Mr  \n",
              " 1033      Mr  \n",
              " 834       Mr  \n",
              " \n",
              " [262 rows x 13 columns]]"
            ]
          },
          "metadata": {},
          "execution_count": 17
        }
      ]
    },
    {
      "cell_type": "code",
      "source": [
        "#replaces certain titles with ‘Rare’ and other titles with ‘Miss’ or ‘Mrs’ in the ‘Title’ column of each dataset in mergeDATA\n",
        "for dataset in mergeDATA:\n",
        "    dataset['Title'] = dataset['Title'].replace(['Lady', 'Countess','Capt', 'Col','Don', 'Dr', 'Major', 'Rev', 'Sir', 'Jonkheer', 'Dona'], 'Rare')\n",
        "\n",
        "    dataset['Title'] = dataset['Title'].replace('Mlle', 'Miss')\n",
        "    dataset['Title'] = dataset['Title'].replace('Ms', 'Miss')\n",
        "    dataset['Title'] = dataset['Title'].replace('Mme', 'Mrs')"
      ],
      "metadata": {
        "id": "HqH73kkorHty"
      },
      "execution_count": 18,
      "outputs": []
    },
    {
      "cell_type": "code",
      "source": [
        "mergeDATA"
      ],
      "metadata": {
        "colab": {
          "base_uri": "https://localhost:8080/"
        },
        "id": "HQ8M_YuvrNfz",
        "outputId": "993bba2e-39e7-4046-a173-62db9e31746e"
      },
      "execution_count": 19,
      "outputs": [
        {
          "output_type": "execute_result",
          "data": {
            "text/plain": [
              "[      pclass                                       name     sex  age  sibsp  \\\n",
              " 39       1.0                         Brandeis, Mr. Emil    male   48    0.0   \n",
              " 119      1.0              Frauenthal, Dr. Henry William    male   50    2.0   \n",
              " 284      1.0  Stone, Mrs. George Nelson (Martha Evelyn)  female   62    0.0   \n",
              " 1298     3.0                  Wittevrongel, Mr. Camille    male   36    0.0   \n",
              " 241      1.0                      Rood, Mr. Hugh Roscoe    male   17    0.0   \n",
              " ...      ...                                        ...     ...  ...    ...   \n",
              " 613      3.0                Albimona, Mr. Nassef Cassem    male   26    0.0   \n",
              " 755      3.0                         Davies, Mr. Joseph    male   17    2.0   \n",
              " 1199     3.0                Shorney, Mr. Charles Joseph    male   28    0.0   \n",
              " 955      3.0                         Lefebre, Miss. Ida  female   33    3.0   \n",
              " 53       1.0                     Carrau, Mr. Jose Pedro    male   17    0.0   \n",
              " \n",
              "       parch     ticket      fare cabin embarked  newColumn_cabin  \\\n",
              " 39      0.0   PC 17591   50.4958   B10        C                1   \n",
              " 119     0.0   PC 17611  133.6500  None        S                1   \n",
              " 284     0.0     113572   80.0000   B28        S                1   \n",
              " 1298    0.0     345771    9.5000  None        S                1   \n",
              " 241     0.0     113767   50.0000   A32        S                1   \n",
              " ...     ...        ...       ...   ...      ...              ...   \n",
              " 613     0.0       2699   18.7875  None        C                1   \n",
              " 755     0.0  A/4 48873    8.0500  None        S                1   \n",
              " 1199    0.0     374910    8.0500  None        S                1   \n",
              " 955     1.0       4133   25.4667  None        S                1   \n",
              " 53      0.0     113059   47.1000  None        S                1   \n",
              " \n",
              "       all_in_one_family Title  \n",
              " 39                  1.0    Mr  \n",
              " 119                 3.0  Rare  \n",
              " 284                 1.0   Mrs  \n",
              " 1298                1.0    Mr  \n",
              " 241                 1.0    Mr  \n",
              " ...                 ...   ...  \n",
              " 613                 1.0    Mr  \n",
              " 755                 3.0    Mr  \n",
              " 1199                1.0    Mr  \n",
              " 955                 5.0  Miss  \n",
              " 53                  1.0    Mr  \n",
              " \n",
              " [1047 rows x 13 columns],\n",
              "       pclass                               name     sex  age  sibsp  parch  \\\n",
              " 650      3.0              Attalah, Miss. Malake  female   17    0.0    0.0   \n",
              " 176      1.0  Kenyon, Mrs. Frederick R (Marion)  female   28    1.0    0.0   \n",
              " 84       1.0          Cumings, Mr. John Bradley    male   39    1.0    0.0   \n",
              " 87       1.0        Daniel, Mr. Robert Williams    male   27    0.0    0.0   \n",
              " 1025     3.0                Moor, Master. Meier    male    6    0.0    1.0   \n",
              " ...      ...                                ...     ...  ...    ...    ...   \n",
              " 315      1.0           Willard, Miss. Constance  female   21    0.0    0.0   \n",
              " 1016     3.0                Mernagh, Mr. Robert    male   19    0.0    0.0   \n",
              " 985      3.0          Madsen, Mr. Fridtjof Arne    male   24    0.0    0.0   \n",
              " 1033     3.0             Moss, Mr. Albert Johan    male   32    0.0    0.0   \n",
              " 834      3.0   Gronnestad, Mr. Daniel Danielsen    male   32    0.0    0.0   \n",
              " \n",
              "         ticket     fare cabin embarked  newColumn_cabin  all_in_one_family  \\\n",
              " 650       2627  14.4583  None        C                1                1.0   \n",
              " 176      17464  51.8625   D21        S                1                2.0   \n",
              " 84    PC 17599  71.2833   C85        C                1                2.0   \n",
              " 87      113804  30.5000  None        S                1                1.0   \n",
              " 1025    392096  12.4750  E121        S                1                2.0   \n",
              " ...        ...      ...   ...      ...              ...                ...   \n",
              " 315     113795  26.5500  None        S                1                1.0   \n",
              " 1016    368703   7.7500  None        Q                1                1.0   \n",
              " 985    C 17369   7.1417  None        S                1                1.0   \n",
              " 1033    312991   7.7750  None        S                1                1.0   \n",
              " 834       8471   8.3625  None        S                1                1.0   \n",
              " \n",
              "        Title  \n",
              " 650     Miss  \n",
              " 176      Mrs  \n",
              " 84        Mr  \n",
              " 87        Mr  \n",
              " 1025  Master  \n",
              " ...      ...  \n",
              " 315     Miss  \n",
              " 1016      Mr  \n",
              " 985       Mr  \n",
              " 1033      Mr  \n",
              " 834       Mr  \n",
              " \n",
              " [262 rows x 13 columns]]"
            ]
          },
          "metadata": {},
          "execution_count": 19
        }
      ]
    },
    {
      "cell_type": "code",
      "source": [
        "for dataset in mergeDATA:\n",
        "    \n",
        "    #maps the values in the sex column to integers, with female being mapped to 0 and male being mapped to 1. \n",
        "    #The column is then converted to integers using the astype() function.\n",
        "    \n",
        "    dataset['sex'] = dataset['sex'].map( {'female': 0, 'male': 1} ).astype(int)\n",
        "    \n",
        "    # Mapping titles\n",
        "    #\"Mr\" being mapped to 1, \"Master\" being mapped to 2, \"Mrs\" being mapped to 3, \"Miss\" being mapped to 4, and \"Rare\" being mapped to 5. If the Title column has any missing values, they are filled with 0\n",
        "    title_mapping = {\"Mr\": 1, \"Master\": 2, \"Mrs\": 3, \"Miss\": 4, \"Rare\": 5}\n",
        "    dataset['Title'] = dataset['Title'].map(title_mapping)\n",
        "    dataset['Title'] = dataset['Title'].fillna(0)\n",
        "\n",
        "    # Mapping Embarked\n",
        "    #embarked column to integers, with \"S\" being mapped to 0, \"C\" being mapped to 1, and \"Q\" being mapped to 2. The column is then converted to integers using the astype() function.\n",
        "\n",
        "    dataset['embarked'] = dataset['embarked'].map( {'S': 0, 'C': 1, 'Q': 2} ).astype(int)\n",
        "    \n",
        "    # Mapping Fare\n",
        "    #fare column is less than or equal to 7.91, it is mapped to 0. If the value is greater than 7.91 and less than or equal to 14.454, it is mapped to 1. If the value is greater than 14.454 and less than or equal to 31, it is mapped to 2. If the value is greater than 31, it is mapped to 3\n",
        "    dataset.loc[ dataset['fare'] <= 7.91, 'fare'] = 0\n",
        "    dataset.loc[(dataset['fare'] > 7.91) & (dataset['fare'] <= 14.454), 'fare'] = 1\n",
        "    dataset.loc[(dataset['fare'] > 14.454) & (dataset['fare'] <= 31), 'fare']   = 2\n",
        "    dataset.loc[ dataset['fare'] > 31, 'fare'] \t\t\t\t\t\t\t        = 3\n",
        "    dataset['fare'] = dataset['fare'].astype(int)\n",
        "    \n",
        "    # Mapping Age\n",
        "    # age column is less than or equal to 16, it is mapped to 0. If the value is greater than 16 and less than or equal to 32, it is mapped to 1. If the value is greater than 32 and less than or equal to 48, it is mapped to 2. If the value is greater than 48 and less than or equal to 64, it is mapped to 3. If the value is greater than 64,it is left unchanged.\n",
        "\n",
        "\n",
        "    dataset.loc[ dataset['age'] <= 16, 'age'] \t\t\t\t\t       = 0\n",
        "    dataset.loc[(dataset['age'] > 16) & (dataset['age'] <= 32), 'age'] = 1\n",
        "    dataset.loc[(dataset['age'] > 32) & (dataset['age'] <= 48), 'age'] = 2\n",
        "    dataset.loc[(dataset['age'] > 48) & (dataset['age'] <= 64), 'age'] = 3\n",
        "    dataset.loc[ dataset['age'] > 64, 'age'] ;"
      ],
      "metadata": {
        "id": "yu43jtgs7wzx"
      },
      "execution_count": 20,
      "outputs": []
    },
    {
      "cell_type": "code",
      "source": [
        "mergeDATA"
      ],
      "metadata": {
        "colab": {
          "base_uri": "https://localhost:8080/"
        },
        "id": "tL_FnELgGEIS",
        "outputId": "f66e10e2-e937-41b8-d78b-61ad9b445ba8"
      },
      "execution_count": 21,
      "outputs": [
        {
          "output_type": "execute_result",
          "data": {
            "text/plain": [
              "[      pclass                                       name  sex  age  sibsp  \\\n",
              " 39       1.0                         Brandeis, Mr. Emil    1    2    0.0   \n",
              " 119      1.0              Frauenthal, Dr. Henry William    1    3    2.0   \n",
              " 284      1.0  Stone, Mrs. George Nelson (Martha Evelyn)    0    3    0.0   \n",
              " 1298     3.0                  Wittevrongel, Mr. Camille    1    2    0.0   \n",
              " 241      1.0                      Rood, Mr. Hugh Roscoe    1    1    0.0   \n",
              " ...      ...                                        ...  ...  ...    ...   \n",
              " 613      3.0                Albimona, Mr. Nassef Cassem    1    1    0.0   \n",
              " 755      3.0                         Davies, Mr. Joseph    1    1    2.0   \n",
              " 1199     3.0                Shorney, Mr. Charles Joseph    1    1    0.0   \n",
              " 955      3.0                         Lefebre, Miss. Ida    0    2    3.0   \n",
              " 53       1.0                     Carrau, Mr. Jose Pedro    1    1    0.0   \n",
              " \n",
              "       parch     ticket  fare cabin  embarked  newColumn_cabin  \\\n",
              " 39      0.0   PC 17591     3   B10         1                1   \n",
              " 119     0.0   PC 17611     3  None         0                1   \n",
              " 284     0.0     113572     3   B28         0                1   \n",
              " 1298    0.0     345771     1  None         0                1   \n",
              " 241     0.0     113767     3   A32         0                1   \n",
              " ...     ...        ...   ...   ...       ...              ...   \n",
              " 613     0.0       2699     2  None         1                1   \n",
              " 755     0.0  A/4 48873     1  None         0                1   \n",
              " 1199    0.0     374910     1  None         0                1   \n",
              " 955     1.0       4133     2  None         0                1   \n",
              " 53      0.0     113059     3  None         0                1   \n",
              " \n",
              "       all_in_one_family  Title  \n",
              " 39                  1.0      1  \n",
              " 119                 3.0      5  \n",
              " 284                 1.0      3  \n",
              " 1298                1.0      1  \n",
              " 241                 1.0      1  \n",
              " ...                 ...    ...  \n",
              " 613                 1.0      1  \n",
              " 755                 3.0      1  \n",
              " 1199                1.0      1  \n",
              " 955                 5.0      4  \n",
              " 53                  1.0      1  \n",
              " \n",
              " [1047 rows x 13 columns],\n",
              "       pclass                               name  sex  age  sibsp  parch  \\\n",
              " 650      3.0              Attalah, Miss. Malake    0    1    0.0    0.0   \n",
              " 176      1.0  Kenyon, Mrs. Frederick R (Marion)    0    1    1.0    0.0   \n",
              " 84       1.0          Cumings, Mr. John Bradley    1    2    1.0    0.0   \n",
              " 87       1.0        Daniel, Mr. Robert Williams    1    1    0.0    0.0   \n",
              " 1025     3.0                Moor, Master. Meier    1    0    0.0    1.0   \n",
              " ...      ...                                ...  ...  ...    ...    ...   \n",
              " 315      1.0           Willard, Miss. Constance    0    1    0.0    0.0   \n",
              " 1016     3.0                Mernagh, Mr. Robert    1    1    0.0    0.0   \n",
              " 985      3.0          Madsen, Mr. Fridtjof Arne    1    1    0.0    0.0   \n",
              " 1033     3.0             Moss, Mr. Albert Johan    1    1    0.0    0.0   \n",
              " 834      3.0   Gronnestad, Mr. Daniel Danielsen    1    1    0.0    0.0   \n",
              " \n",
              "         ticket  fare cabin  embarked  newColumn_cabin  all_in_one_family  \\\n",
              " 650       2627     2  None         1                1                1.0   \n",
              " 176      17464     3   D21         0                1                2.0   \n",
              " 84    PC 17599     3   C85         1                1                2.0   \n",
              " 87      113804     2  None         0                1                1.0   \n",
              " 1025    392096     1  E121         0                1                2.0   \n",
              " ...        ...   ...   ...       ...              ...                ...   \n",
              " 315     113795     2  None         0                1                1.0   \n",
              " 1016    368703     0  None         2                1                1.0   \n",
              " 985    C 17369     0  None         0                1                1.0   \n",
              " 1033    312991     0  None         0                1                1.0   \n",
              " 834       8471     1  None         0                1                1.0   \n",
              " \n",
              "       Title  \n",
              " 650       4  \n",
              " 176       3  \n",
              " 84        1  \n",
              " 87        1  \n",
              " 1025      2  \n",
              " ...     ...  \n",
              " 315       4  \n",
              " 1016      1  \n",
              " 985       1  \n",
              " 1033      1  \n",
              " 834       1  \n",
              " \n",
              " [262 rows x 13 columns]]"
            ]
          },
          "metadata": {},
          "execution_count": 21
        }
      ]
    },
    {
      "cell_type": "code",
      "source": [
        "#droping the ‘name’, ‘ticket’, ‘cabin’, and ‘sibsp’ columns from the ‘X_train’ and ‘X_test’ datasets.\n",
        "Trash_ele = ['name', 'ticket', 'cabin', 'sibsp']\n",
        "X_train = X_train.drop(Trash_ele, axis = 1)\n",
        "X_test  = X_test.drop(Trash_ele, axis = 1)"
      ],
      "metadata": {
        "id": "t2xV9hBf8lq7"
      },
      "execution_count": 22,
      "outputs": []
    },
    {
      "cell_type": "code",
      "source": [
        "mergeDATA"
      ],
      "metadata": {
        "colab": {
          "base_uri": "https://localhost:8080/"
        },
        "id": "XNUTn_noxvv-",
        "outputId": "dfcdb4ff-e4e0-419e-9b9c-5e6fae377cea"
      },
      "execution_count": 23,
      "outputs": [
        {
          "output_type": "execute_result",
          "data": {
            "text/plain": [
              "[      pclass                                       name  sex  age  sibsp  \\\n",
              " 39       1.0                         Brandeis, Mr. Emil    1    2    0.0   \n",
              " 119      1.0              Frauenthal, Dr. Henry William    1    3    2.0   \n",
              " 284      1.0  Stone, Mrs. George Nelson (Martha Evelyn)    0    3    0.0   \n",
              " 1298     3.0                  Wittevrongel, Mr. Camille    1    2    0.0   \n",
              " 241      1.0                      Rood, Mr. Hugh Roscoe    1    1    0.0   \n",
              " ...      ...                                        ...  ...  ...    ...   \n",
              " 613      3.0                Albimona, Mr. Nassef Cassem    1    1    0.0   \n",
              " 755      3.0                         Davies, Mr. Joseph    1    1    2.0   \n",
              " 1199     3.0                Shorney, Mr. Charles Joseph    1    1    0.0   \n",
              " 955      3.0                         Lefebre, Miss. Ida    0    2    3.0   \n",
              " 53       1.0                     Carrau, Mr. Jose Pedro    1    1    0.0   \n",
              " \n",
              "       parch     ticket  fare cabin  embarked  newColumn_cabin  \\\n",
              " 39      0.0   PC 17591     3   B10         1                1   \n",
              " 119     0.0   PC 17611     3  None         0                1   \n",
              " 284     0.0     113572     3   B28         0                1   \n",
              " 1298    0.0     345771     1  None         0                1   \n",
              " 241     0.0     113767     3   A32         0                1   \n",
              " ...     ...        ...   ...   ...       ...              ...   \n",
              " 613     0.0       2699     2  None         1                1   \n",
              " 755     0.0  A/4 48873     1  None         0                1   \n",
              " 1199    0.0     374910     1  None         0                1   \n",
              " 955     1.0       4133     2  None         0                1   \n",
              " 53      0.0     113059     3  None         0                1   \n",
              " \n",
              "       all_in_one_family  Title  \n",
              " 39                  1.0      1  \n",
              " 119                 3.0      5  \n",
              " 284                 1.0      3  \n",
              " 1298                1.0      1  \n",
              " 241                 1.0      1  \n",
              " ...                 ...    ...  \n",
              " 613                 1.0      1  \n",
              " 755                 3.0      1  \n",
              " 1199                1.0      1  \n",
              " 955                 5.0      4  \n",
              " 53                  1.0      1  \n",
              " \n",
              " [1047 rows x 13 columns],\n",
              "       pclass                               name  sex  age  sibsp  parch  \\\n",
              " 650      3.0              Attalah, Miss. Malake    0    1    0.0    0.0   \n",
              " 176      1.0  Kenyon, Mrs. Frederick R (Marion)    0    1    1.0    0.0   \n",
              " 84       1.0          Cumings, Mr. John Bradley    1    2    1.0    0.0   \n",
              " 87       1.0        Daniel, Mr. Robert Williams    1    1    0.0    0.0   \n",
              " 1025     3.0                Moor, Master. Meier    1    0    0.0    1.0   \n",
              " ...      ...                                ...  ...  ...    ...    ...   \n",
              " 315      1.0           Willard, Miss. Constance    0    1    0.0    0.0   \n",
              " 1016     3.0                Mernagh, Mr. Robert    1    1    0.0    0.0   \n",
              " 985      3.0          Madsen, Mr. Fridtjof Arne    1    1    0.0    0.0   \n",
              " 1033     3.0             Moss, Mr. Albert Johan    1    1    0.0    0.0   \n",
              " 834      3.0   Gronnestad, Mr. Daniel Danielsen    1    1    0.0    0.0   \n",
              " \n",
              "         ticket  fare cabin  embarked  newColumn_cabin  all_in_one_family  \\\n",
              " 650       2627     2  None         1                1                1.0   \n",
              " 176      17464     3   D21         0                1                2.0   \n",
              " 84    PC 17599     3   C85         1                1                2.0   \n",
              " 87      113804     2  None         0                1                1.0   \n",
              " 1025    392096     1  E121         0                1                2.0   \n",
              " ...        ...   ...   ...       ...              ...                ...   \n",
              " 315     113795     2  None         0                1                1.0   \n",
              " 1016    368703     0  None         2                1                1.0   \n",
              " 985    C 17369     0  None         0                1                1.0   \n",
              " 1033    312991     0  None         0                1                1.0   \n",
              " 834       8471     1  None         0                1                1.0   \n",
              " \n",
              "       Title  \n",
              " 650       4  \n",
              " 176       3  \n",
              " 84        1  \n",
              " 87        1  \n",
              " 1025      2  \n",
              " ...     ...  \n",
              " 315       4  \n",
              " 1016      1  \n",
              " 985       1  \n",
              " 1033      1  \n",
              " 834       1  \n",
              " \n",
              " [262 rows x 13 columns]]"
            ]
          },
          "metadata": {},
          "execution_count": 23
        }
      ]
    },
    {
      "cell_type": "code",
      "source": [
        "mergeDATA"
      ],
      "metadata": {
        "colab": {
          "base_uri": "https://localhost:8080/"
        },
        "id": "pz7zE8ZzGJGh",
        "outputId": "ac311c6f-8945-4bce-cfd0-e487d4c5ec23"
      },
      "execution_count": 24,
      "outputs": [
        {
          "output_type": "execute_result",
          "data": {
            "text/plain": [
              "[      pclass                                       name  sex  age  sibsp  \\\n",
              " 39       1.0                         Brandeis, Mr. Emil    1    2    0.0   \n",
              " 119      1.0              Frauenthal, Dr. Henry William    1    3    2.0   \n",
              " 284      1.0  Stone, Mrs. George Nelson (Martha Evelyn)    0    3    0.0   \n",
              " 1298     3.0                  Wittevrongel, Mr. Camille    1    2    0.0   \n",
              " 241      1.0                      Rood, Mr. Hugh Roscoe    1    1    0.0   \n",
              " ...      ...                                        ...  ...  ...    ...   \n",
              " 613      3.0                Albimona, Mr. Nassef Cassem    1    1    0.0   \n",
              " 755      3.0                         Davies, Mr. Joseph    1    1    2.0   \n",
              " 1199     3.0                Shorney, Mr. Charles Joseph    1    1    0.0   \n",
              " 955      3.0                         Lefebre, Miss. Ida    0    2    3.0   \n",
              " 53       1.0                     Carrau, Mr. Jose Pedro    1    1    0.0   \n",
              " \n",
              "       parch     ticket  fare cabin  embarked  newColumn_cabin  \\\n",
              " 39      0.0   PC 17591     3   B10         1                1   \n",
              " 119     0.0   PC 17611     3  None         0                1   \n",
              " 284     0.0     113572     3   B28         0                1   \n",
              " 1298    0.0     345771     1  None         0                1   \n",
              " 241     0.0     113767     3   A32         0                1   \n",
              " ...     ...        ...   ...   ...       ...              ...   \n",
              " 613     0.0       2699     2  None         1                1   \n",
              " 755     0.0  A/4 48873     1  None         0                1   \n",
              " 1199    0.0     374910     1  None         0                1   \n",
              " 955     1.0       4133     2  None         0                1   \n",
              " 53      0.0     113059     3  None         0                1   \n",
              " \n",
              "       all_in_one_family  Title  \n",
              " 39                  1.0      1  \n",
              " 119                 3.0      5  \n",
              " 284                 1.0      3  \n",
              " 1298                1.0      1  \n",
              " 241                 1.0      1  \n",
              " ...                 ...    ...  \n",
              " 613                 1.0      1  \n",
              " 755                 3.0      1  \n",
              " 1199                1.0      1  \n",
              " 955                 5.0      4  \n",
              " 53                  1.0      1  \n",
              " \n",
              " [1047 rows x 13 columns],\n",
              "       pclass                               name  sex  age  sibsp  parch  \\\n",
              " 650      3.0              Attalah, Miss. Malake    0    1    0.0    0.0   \n",
              " 176      1.0  Kenyon, Mrs. Frederick R (Marion)    0    1    1.0    0.0   \n",
              " 84       1.0          Cumings, Mr. John Bradley    1    2    1.0    0.0   \n",
              " 87       1.0        Daniel, Mr. Robert Williams    1    1    0.0    0.0   \n",
              " 1025     3.0                Moor, Master. Meier    1    0    0.0    1.0   \n",
              " ...      ...                                ...  ...  ...    ...    ...   \n",
              " 315      1.0           Willard, Miss. Constance    0    1    0.0    0.0   \n",
              " 1016     3.0                Mernagh, Mr. Robert    1    1    0.0    0.0   \n",
              " 985      3.0          Madsen, Mr. Fridtjof Arne    1    1    0.0    0.0   \n",
              " 1033     3.0             Moss, Mr. Albert Johan    1    1    0.0    0.0   \n",
              " 834      3.0   Gronnestad, Mr. Daniel Danielsen    1    1    0.0    0.0   \n",
              " \n",
              "         ticket  fare cabin  embarked  newColumn_cabin  all_in_one_family  \\\n",
              " 650       2627     2  None         1                1                1.0   \n",
              " 176      17464     3   D21         0                1                2.0   \n",
              " 84    PC 17599     3   C85         1                1                2.0   \n",
              " 87      113804     2  None         0                1                1.0   \n",
              " 1025    392096     1  E121         0                1                2.0   \n",
              " ...        ...   ...   ...       ...              ...                ...   \n",
              " 315     113795     2  None         0                1                1.0   \n",
              " 1016    368703     0  None         2                1                1.0   \n",
              " 985    C 17369     0  None         0                1                1.0   \n",
              " 1033    312991     0  None         0                1                1.0   \n",
              " 834       8471     1  None         0                1                1.0   \n",
              " \n",
              "       Title  \n",
              " 650       4  \n",
              " 176       3  \n",
              " 84        1  \n",
              " 87        1  \n",
              " 1025      2  \n",
              " ...     ...  \n",
              " 315       4  \n",
              " 1016      1  \n",
              " 985       1  \n",
              " 1033      1  \n",
              " 834       1  \n",
              " \n",
              " [262 rows x 13 columns]]"
            ]
          },
          "metadata": {},
          "execution_count": 24
        }
      ]
    },
    {
      "cell_type": "code",
      "source": [
        "#trained the model on the training data X_train and y_train using the fit() method.\n",
        "classifier = DecisionTreeClassifier(max_depth=3, criterion = 'gini', min_samples_split=10, min_samples_leaf= 2)\n",
        "classifier.fit(X_train.values, y_train.values)"
      ],
      "metadata": {
        "id": "JD3tfXhC-qw5"
      },
      "execution_count": 25,
      "outputs": []
    },
    {
      "cell_type": "code",
      "source": [
        "y_pred = classifier.predict(X_test.values)\n",
        "y_true = y_test.values"
      ],
      "metadata": {
        "id": "cj69kUZb-ulE"
      },
      "execution_count": 26,
      "outputs": []
    },
    {
      "cell_type": "code",
      "source": [
        "#compute performance metrics for the decision tree classifier \n",
        "\n",
        "from sklearn.metrics import accuracy_score, precision_score, recall_score\n",
        "\n",
        "print('Accuracy is :', accuracy_score(y_true, y_pred))\n",
        "print('Precision is :', precision_score(y_true, y_pred))\n",
        "print('Recall is :', recall_score(y_true, y_pred))"
      ],
      "metadata": {
        "colab": {
          "base_uri": "https://localhost:8080/"
        },
        "id": "4ZjoGmTB-x7g",
        "outputId": "fcbc0385-b26e-4aca-f45f-c4b4517b7c26"
      },
      "execution_count": 27,
      "outputs": [
        {
          "output_type": "stream",
          "name": "stdout",
          "text": [
            "Accuracy is : 0.7519083969465649\n",
            "Precision is : 0.7058823529411765\n",
            "Recall is : 0.6\n"
          ]
        }
      ]
    },
    {
      "cell_type": "code",
      "source": [
        "import numpy as np\n",
        "from collections import Counter\n",
        "\n",
        "class RandomForest:\n",
        "    def __init__(self, n_trees=10, max_depth=10, min_samples_split=2, n_feature=None):\n",
        "        self.n_trees = n_trees\n",
        "        self.max_depth=max_depth\n",
        "        self.min_samples_split=min_samples_split\n",
        "        self.updated_Fea=n_feature\n",
        "        self.trees = []\n",
        "    \n",
        "    #trains the model on the input data X and labels y\n",
        "    def fit(self, X, y):\n",
        "        self.trees = []\n",
        "        #loop to create n_trees decision trees, each trained on a different random subset of the training data\n",
        "        for _ in range(self.n_trees):\n",
        "            tree = DecisionTreeClassifier(criterion = 'entropy', max_depth=self.max_depth, min_samples_split=self.min_samples_split)\n",
        "            X_sample, y_sample = self._sam_bootstrap(X, y)\n",
        "            tree.fit(X_sample, y_sample)\n",
        "            self.trees.append(tree)\n",
        "    \n",
        "    #generate a bootstrap sample of the input data X and labels y\n",
        "    def _sam_bootstrap(self, X, y):  #implements the process of bootstrap aggregating\n",
        "        n_samples = len(X)\n",
        "        idxs = np.random.choice(n_samples, n_samples, replace=True)\n",
        "        return X[idxs], y[idxs]\n",
        "    #used to reduce variance in the model by training individual trees on different subsets of the data\n",
        "    \n",
        "    \n",
        "    #used to determine the majority label in a set of labels y\n",
        "    def _most_common_lbl(self, y):\n",
        "        counter = Counter(y)\n",
        "        most_common = counter.most_common(1)[0][0]\n",
        "        return most_common\n",
        "   \n",
        "    #predicts labels for a new set of input data X using the trained decision trees\n",
        "    def predict(self, X):\n",
        "        PR = np.array([tree.predict(X) for tree in self.trees])\n",
        "        tree_preds = np.swapaxes(PR, 0, 1)\n",
        "        PR = np.array([self._most_common_lbl(pred) for pred in tree_preds])\n",
        "        return PR"
      ],
      "metadata": {
        "id": "mht46hJP--J8"
      },
      "execution_count": 28,
      "outputs": []
    },
    {
      "cell_type": "code",
      "source": [
        "rand_classifier = RandomForest()\n",
        "rand_classifier.fit(X_train.values, y_train.values)"
      ],
      "metadata": {
        "id": "eFCsjJCi_BDw"
      },
      "execution_count": 29,
      "outputs": []
    },
    {
      "cell_type": "code",
      "source": [
        "y_pred = rand_classifier.predict(X_test.values)\n",
        "y_true = y_test.values"
      ],
      "metadata": {
        "id": "mbzDbAF1_3PU"
      },
      "execution_count": 30,
      "outputs": []
    },
    {
      "cell_type": "code",
      "source": [
        "from sklearn.metrics import accuracy_score, precision_score, recall_score\n",
        "\n",
        "print('Accuracy is :', accuracy_score(y_true, y_pred))\n",
        "print('Precision is :', precision_score(y_true, y_pred))\n",
        "print('Recall is :', recall_score(y_true, y_pred))"
      ],
      "metadata": {
        "colab": {
          "base_uri": "https://localhost:8080/"
        },
        "id": "6Cq1sVtuATBL",
        "outputId": "5159eb16-f507-4da8-df57-c7be58a330ff"
      },
      "execution_count": 31,
      "outputs": [
        {
          "output_type": "stream",
          "name": "stdout",
          "text": [
            "Accuracy is : 0.7748091603053435\n",
            "Precision is : 0.7530864197530864\n",
            "Recall is : 0.61\n"
          ]
        }
      ]
    },
    {
      "cell_type": "code",
      "source": [
        "import numpy as np\n",
        "\n",
        "class AdaBoost:\n",
        "    def __init__(self, base_estimator, n_estimators=50, learning_rate=1, max_depth = None):\n",
        "        self.base_estimator = base_estimator\n",
        "        self.n_estimators = n_estimators\n",
        "        self.learning_rate = learning_rate\n",
        "        self.estimators = []\n",
        "        self.weights = []\n",
        "        self.max_depth = max_depth\n",
        "        \n",
        "    def fit(self, X, y):\n",
        "        \n",
        "        SW = np.ones(len(X)) / len(X)\n",
        "        \n",
        "        for i in range(self.n_estimators):\n",
        "            estimator = self.base_estimator(max_depth = self.max_depth)\n",
        "            estimator.fit(X, y)\n",
        "            y_pred = estimator.predict(X)\n",
        "            mis_class = np.sum(np.where(y != y_pred, SW, 0))\n",
        "            total = np.sum(SW)\n",
        "            error = mis_class / total\n",
        "            weight = np.log((1 - error) / error)\n",
        "            weight *= self.learning_rate\n",
        "            weight = np.exp(weight)\n",
        "            self.weights.append(weight)\n",
        "            self.estimators.append(estimator)\n",
        "            misclassed = (y != y_pred)\n",
        "            SW = SW * np.exp(weight * misclassed)\n",
        "            SW = SW / np.sum(SW)\n",
        "\n",
        " \n",
        "    def predict(self, X):\n",
        "      y_pred = np.zeros(len(X))\n",
        "      for i in range(len(self.estimators)):\n",
        "          y_pred = y_pred + self.weights[i] * self.estimators[i].predict(X)\n",
        "      return np.sign(y_pred)\n"
      ],
      "metadata": {
        "id": "MvkFNGcrAzs0"
      },
      "execution_count": 32,
      "outputs": []
    },
    {
      "cell_type": "code",
      "source": [
        "clf_ada = AdaBoost(base_estimator= DecisionTreeClassifier)\n",
        "clf_ada.fit(X_train.values, y_train.values)"
      ],
      "metadata": {
        "id": "mUFXs0jvA3TG"
      },
      "execution_count": 33,
      "outputs": []
    },
    {
      "cell_type": "code",
      "source": [
        "y_pred = clf_ada.predict(X_test.values)"
      ],
      "metadata": {
        "id": "AzVRwbg0A7b6"
      },
      "execution_count": 34,
      "outputs": []
    },
    {
      "cell_type": "code",
      "source": [
        "y_pred = y_pred.astype(int)"
      ],
      "metadata": {
        "id": "dqZBU0FyA8Fq"
      },
      "execution_count": 35,
      "outputs": []
    },
    {
      "cell_type": "code",
      "source": [
        "y_true = y_test.values"
      ],
      "metadata": {
        "id": "JnOfnCRiA9-4"
      },
      "execution_count": 36,
      "outputs": []
    },
    {
      "cell_type": "code",
      "source": [
        "#calculates the accuracy of the AdaBoost classifier on the test data\n",
        "accuracy = np.mean(y_true == y_pred)\n",
        "print(\"Adaboost Accuracy \", accuracy)"
      ],
      "metadata": {
        "colab": {
          "base_uri": "https://localhost:8080/"
        },
        "id": "_rmgxFToBAA9",
        "outputId": "68b863ab-6405-4632-c814-5f2a7969bdf9"
      },
      "execution_count": 37,
      "outputs": [
        {
          "output_type": "stream",
          "name": "stdout",
          "text": [
            "Adaboost Accuracy  0.7290076335877863\n"
          ]
        }
      ]
    }
  ]
}